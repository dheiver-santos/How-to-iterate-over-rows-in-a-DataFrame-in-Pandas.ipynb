{
  "nbformat": 4,
  "nbformat_minor": 0,
  "metadata": {
    "colab": {
      "name": "How to iterate over rows in a DataFrame in Pandas.ipynb",
      "provenance": []
    },
    "kernelspec": {
      "name": "python3",
      "display_name": "Python 3"
    },
    "language_info": {
      "name": "python"
    }
  },
  "cells": [
    {
      "cell_type": "code",
      "metadata": {
        "colab": {
          "base_uri": "https://localhost:8080/"
        },
        "id": "P1AgtLyDbJQ6",
        "outputId": "674cd97f-3ceb-47f1-f46c-53c9801f6241"
      },
      "source": [
        "import pandas as pd\n",
        "inp = [{'c1':10, 'c2':100}, {'c1':11,'c2':110}, {'c1':12,'c2':120}]\n",
        "df = pd.DataFrame(inp)\n",
        "print(df)"
      ],
      "execution_count": 2,
      "outputs": [
        {
          "output_type": "stream",
          "text": [
            "   c1   c2\n",
            "0  10  100\n",
            "1  11  110\n",
            "2  12  120\n"
          ],
          "name": "stdout"
        }
      ]
    }
  ]
}